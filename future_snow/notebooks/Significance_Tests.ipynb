{
 "cells": [
  {
   "cell_type": "markdown",
   "metadata": {},
   "source": [
    "# First, read in seasonal count data"
   ]
  },
  {
   "cell_type": "code",
   "execution_count": 1,
   "metadata": {},
   "outputs": [
    {
     "name": "stdout",
     "output_type": "stream",
     "text": [
      "CTRL counts [ 95. 114. 116. 110.  90. 109. 105.  97.  98. 105. 101. 113.]\n",
      "PGW Counts [80. 81. 83. 89. 66. 63. 80. 72. 62. 83. 64. 83.]\n"
     ]
    }
   ],
   "source": [
    "import pandas as pd\n",
    "\n",
    "ctrl_counts = pd.read_csv(\"../table_data/combined_CTRL_daily_count.csv\")\n",
    "ctrl_counts['date'] = pd.to_datetime(ctrl_counts.date)\n",
    "ctrl_counts = ctrl_counts.set_index('date')\n",
    "\n",
    "pgw_counts = pd.read_csv(\"../table_data/combined_PGW_daily_count.csv\")\n",
    "pgw_counts['date'] = pd.to_datetime(pgw_counts.date)\n",
    "pgw_counts = pgw_counts.set_index('date')\n",
    "\n",
    "print('CTRL counts', ctrl_counts.sum(axis=0).values)\n",
    "print('PGW Counts', pgw_counts.sum(axis=0).values)"
   ]
  },
  {
   "cell_type": "markdown",
   "metadata": {},
   "source": [
    "Significance test for seasonal counts"
   ]
  },
  {
   "cell_type": "code",
   "execution_count": 2,
   "metadata": {},
   "outputs": [
    {
     "data": {
      "text/plain": [
       "KstestResult(statistic=np.float64(1.0), pvalue=np.float64(7.396023010506791e-07), statistic_location=np.float64(89.0), statistic_sign=np.int8(-1))"
      ]
     },
     "execution_count": 2,
     "metadata": {},
     "output_type": "execute_result"
    }
   ],
   "source": [
    "from scipy.stats import ks_2samp\n",
    "\n",
    "ks_2samp(ctrl_counts.sum(axis=0).values, pgw_counts.sum(axis=0).values)"
   ]
  },
  {
   "cell_type": "markdown",
   "metadata": {},
   "source": [
    "Seasonal SWE"
   ]
  },
  {
   "cell_type": "code",
   "execution_count": 3,
   "metadata": {},
   "outputs": [
    {
     "name": "stdout",
     "output_type": "stream",
     "text": [
      "CTRL swe [ 821.64770855  839.0103679   833.64716186  967.10251815  896.08847683\n",
      "  932.25457426 1043.83580724  976.73582836  763.96922754 1126.72004531\n",
      "  754.67064982 1093.27790239]\n",
      "PGW swe [580.95776791 571.05052909 589.43063742 697.35459293 557.39370814\n",
      " 605.17288133 714.28026215 733.84215384 434.35119407 768.99828366\n",
      " 421.56475585 723.06020675]\n"
     ]
    }
   ],
   "source": [
    "import pandas as pd\n",
    "\n",
    "ctrl_swe = pd.read_csv(\"../table_data/combined_CTRL_daily_swe.csv\")\n",
    "ctrl_swe['date'] = pd.to_datetime(ctrl_swe.date)\n",
    "ctrl_swe = ctrl_swe.set_index('date')\n",
    "\n",
    "pgw_swe = pd.read_csv(\"../table_data/combined_PGW_daily_swe.csv\")\n",
    "pgw_swe['date'] = pd.to_datetime(pgw_swe.date)\n",
    "pgw_swe = pgw_swe.set_index('date')\n",
    "\n",
    "print('CTRL swe', ctrl_swe.sum(axis=0).values)\n",
    "print('PGW swe', pgw_swe.sum(axis=0).values)"
   ]
  },
  {
   "cell_type": "code",
   "execution_count": 4,
   "metadata": {},
   "outputs": [
    {
     "data": {
      "text/plain": [
       "KstestResult(statistic=np.float64(0.9166666666666666), pvalue=np.float64(1.77504552252163e-05), statistic_location=np.float64(733.8421538400088), statistic_sign=np.int8(-1))"
      ]
     },
     "execution_count": 4,
     "metadata": {},
     "output_type": "execute_result"
    }
   ],
   "source": [
    "ks_2samp(ctrl_swe.sum(axis=0).values, pgw_swe.sum(axis=0).values)"
   ]
  },
  {
   "cell_type": "code",
   "execution_count": 5,
   "metadata": {},
   "outputs": [
    {
     "data": {
      "text/html": [
       "<div>\n",
       "<style scoped>\n",
       "    .dataframe tbody tr th:only-of-type {\n",
       "        vertical-align: middle;\n",
       "    }\n",
       "\n",
       "    .dataframe tbody tr th {\n",
       "        vertical-align: top;\n",
       "    }\n",
       "\n",
       "    .dataframe thead th {\n",
       "        text-align: right;\n",
       "    }\n",
       "</style>\n",
       "<table border=\"1\" class=\"dataframe\">\n",
       "  <thead>\n",
       "    <tr style=\"text-align: right;\">\n",
       "      <th></th>\n",
       "      <th>Unnamed: 0</th>\n",
       "      <th>storm_num</th>\n",
       "      <th>season</th>\n",
       "      <th>start_date_compare</th>\n",
       "      <th>end_date_compare</th>\n",
       "      <th>start_date</th>\n",
       "      <th>end_date</th>\n",
       "      <th>duration</th>\n",
       "      <th>swe</th>\n",
       "      <th>swath_area</th>\n",
       "      <th>swath_area_50p</th>\n",
       "      <th>swath_area_90p</th>\n",
       "    </tr>\n",
       "  </thead>\n",
       "  <tbody>\n",
       "    <tr>\n",
       "      <th>0</th>\n",
       "      <td>0</td>\n",
       "      <td>CTRL_2000_2001_10133</td>\n",
       "      <td>2000_2001</td>\n",
       "      <td>2003-11-18 06:00:00</td>\n",
       "      <td>2003-11-19 15:00:00</td>\n",
       "      <td>2000-11-18 06:00:00</td>\n",
       "      <td>2000-11-19 15:00:00</td>\n",
       "      <td>33.0</td>\n",
       "      <td>1.742072</td>\n",
       "      <td>1505712.0</td>\n",
       "      <td>508080.0</td>\n",
       "      <td>85056.0</td>\n",
       "    </tr>\n",
       "    <tr>\n",
       "      <th>1</th>\n",
       "      <td>1</td>\n",
       "      <td>CTRL_2000_2001_10626</td>\n",
       "      <td>2000_2001</td>\n",
       "      <td>2003-11-18 03:00:00</td>\n",
       "      <td>2003-11-23 09:00:00</td>\n",
       "      <td>2000-11-18 03:00:00</td>\n",
       "      <td>2000-11-23 09:00:00</td>\n",
       "      <td>126.0</td>\n",
       "      <td>15.655190</td>\n",
       "      <td>4506304.0</td>\n",
       "      <td>3301936.0</td>\n",
       "      <td>612848.0</td>\n",
       "    </tr>\n",
       "    <tr>\n",
       "      <th>2</th>\n",
       "      <td>2</td>\n",
       "      <td>CTRL_2000_2001_12248</td>\n",
       "      <td>2000_2001</td>\n",
       "      <td>2003-11-21 06:00:00</td>\n",
       "      <td>2003-11-22 09:00:00</td>\n",
       "      <td>2000-11-21 06:00:00</td>\n",
       "      <td>2000-11-22 09:00:00</td>\n",
       "      <td>27.0</td>\n",
       "      <td>1.093670</td>\n",
       "      <td>1078928.0</td>\n",
       "      <td>417856.0</td>\n",
       "      <td>38976.0</td>\n",
       "    </tr>\n",
       "    <tr>\n",
       "      <th>3</th>\n",
       "      <td>3</td>\n",
       "      <td>CTRL_2000_2001_13818</td>\n",
       "      <td>2000_2001</td>\n",
       "      <td>2003-11-24 12:00:00</td>\n",
       "      <td>2003-11-25 12:00:00</td>\n",
       "      <td>2000-11-24 12:00:00</td>\n",
       "      <td>2000-11-25 12:00:00</td>\n",
       "      <td>24.0</td>\n",
       "      <td>1.165468</td>\n",
       "      <td>958720.0</td>\n",
       "      <td>531536.0</td>\n",
       "      <td>6032.0</td>\n",
       "    </tr>\n",
       "    <tr>\n",
       "      <th>4</th>\n",
       "      <td>4</td>\n",
       "      <td>CTRL_2000_2001_14284</td>\n",
       "      <td>2000_2001</td>\n",
       "      <td>2003-11-26 21:00:00</td>\n",
       "      <td>2003-11-30 15:00:00</td>\n",
       "      <td>2000-11-26 21:00:00</td>\n",
       "      <td>2000-11-30 15:00:00</td>\n",
       "      <td>90.0</td>\n",
       "      <td>6.564101</td>\n",
       "      <td>1376528.0</td>\n",
       "      <td>932704.0</td>\n",
       "      <td>262400.0</td>\n",
       "    </tr>\n",
       "  </tbody>\n",
       "</table>\n",
       "</div>"
      ],
      "text/plain": [
       "   Unnamed: 0             storm_num     season   start_date_compare  \\\n",
       "0           0  CTRL_2000_2001_10133  2000_2001  2003-11-18 06:00:00   \n",
       "1           1  CTRL_2000_2001_10626  2000_2001  2003-11-18 03:00:00   \n",
       "2           2  CTRL_2000_2001_12248  2000_2001  2003-11-21 06:00:00   \n",
       "3           3  CTRL_2000_2001_13818  2000_2001  2003-11-24 12:00:00   \n",
       "4           4  CTRL_2000_2001_14284  2000_2001  2003-11-26 21:00:00   \n",
       "\n",
       "      end_date_compare           start_date             end_date  duration  \\\n",
       "0  2003-11-19 15:00:00  2000-11-18 06:00:00  2000-11-19 15:00:00      33.0   \n",
       "1  2003-11-23 09:00:00  2000-11-18 03:00:00  2000-11-23 09:00:00     126.0   \n",
       "2  2003-11-22 09:00:00  2000-11-21 06:00:00  2000-11-22 09:00:00      27.0   \n",
       "3  2003-11-25 12:00:00  2000-11-24 12:00:00  2000-11-25 12:00:00      24.0   \n",
       "4  2003-11-30 15:00:00  2000-11-26 21:00:00  2000-11-30 15:00:00      90.0   \n",
       "\n",
       "         swe  swath_area  swath_area_50p  swath_area_90p  \n",
       "0   1.742072   1505712.0        508080.0         85056.0  \n",
       "1  15.655190   4506304.0       3301936.0        612848.0  \n",
       "2   1.093670   1078928.0        417856.0         38976.0  \n",
       "3   1.165468    958720.0        531536.0          6032.0  \n",
       "4   6.564101   1376528.0        932704.0        262400.0  "
      ]
     },
     "execution_count": 5,
     "metadata": {},
     "output_type": "execute_result"
    }
   ],
   "source": [
    "ctrl_extent = pd.read_csv(\"../table_data/CTRL_extent.csv\")\n",
    "pgw_extent = pd.read_csv(\"../table_data/PGW_extent.csv\")\n",
    "\n",
    "ctrl_extent.head()"
   ]
  },
  {
   "cell_type": "markdown",
   "metadata": {},
   "source": [
    "Durations significance test\n",
    "\n",
    "(I'm just showing the seasonal values as an example.. the test is for all swaths)"
   ]
  },
  {
   "cell_type": "code",
   "execution_count": 6,
   "metadata": {},
   "outputs": [
    {
     "name": "stdout",
     "output_type": "stream",
     "text": [
      "CTRL duration season\n",
      "2000_2001    5565.0\n",
      "2001_2002    5994.0\n",
      "2002_2003    5979.0\n",
      "2003_2004    6159.0\n",
      "2005_2006    5007.0\n",
      "2006_2007    5739.0\n",
      "2007_2008    5694.0\n",
      "2008_2009    5526.0\n",
      "2009_2010    5457.0\n",
      "2010_2011    6525.0\n",
      "2011_2012    4923.0\n",
      "2012_2013    6771.0\n",
      "Name: duration, dtype: float64\n",
      "PGW swe season\n",
      "2000_2001    4335.0\n",
      "2001_2002    4281.0\n",
      "2002_2003    4134.0\n",
      "2003_2004    4515.0\n",
      "2005_2006    3609.0\n",
      "2006_2007    3732.0\n",
      "2007_2008    4443.0\n",
      "2008_2009    4326.0\n",
      "2009_2010    3342.0\n",
      "2010_2011    4599.0\n",
      "2011_2012    3120.0\n",
      "2012_2013    4869.0\n",
      "Name: duration, dtype: float64\n"
     ]
    },
    {
     "data": {
      "text/plain": [
       "KstestResult(statistic=np.float64(0.04567228497081618), pvalue=np.float64(0.2141664039812162), statistic_location=np.float64(57.0), statistic_sign=np.int8(-1))"
      ]
     },
     "execution_count": 6,
     "metadata": {},
     "output_type": "execute_result"
    }
   ],
   "source": [
    "print('CTRL duration', ctrl_extent.groupby('season')['duration'].sum())\n",
    "print('PGW swe', pgw_extent.groupby('season')['duration'].sum())\n",
    "\n",
    "ks_2samp(ctrl_extent['duration'].values, pgw_extent['duration'].values)"
   ]
  },
  {
   "cell_type": "markdown",
   "metadata": {},
   "source": [
    "SWE significance test\n",
    "\n",
    "(I'm just showing the seasonal values as an example.. the test is for all swaths)"
   ]
  },
  {
   "cell_type": "code",
   "execution_count": 7,
   "metadata": {},
   "outputs": [
    {
     "name": "stdout",
     "output_type": "stream",
     "text": [
      "CTRL swe season\n",
      "2000_2001     821.647709\n",
      "2001_2002     839.010368\n",
      "2002_2003     833.647162\n",
      "2003_2004     967.102518\n",
      "2005_2006     896.088477\n",
      "2006_2007     932.254574\n",
      "2007_2008    1043.883109\n",
      "2008_2009     976.735828\n",
      "2009_2010     763.969228\n",
      "2010_2011    1127.141805\n",
      "2011_2012     754.670650\n",
      "2012_2013    1093.851352\n",
      "Name: swe, dtype: float64\n",
      "PGW swe season\n",
      "2000_2001    580.957768\n",
      "2001_2002    571.050529\n",
      "2002_2003    589.430637\n",
      "2003_2004    697.354593\n",
      "2005_2006    557.393708\n",
      "2006_2007    605.172881\n",
      "2007_2008    714.338331\n",
      "2008_2009    733.842154\n",
      "2009_2010    434.351194\n",
      "2010_2011    768.998284\n",
      "2011_2012    421.564756\n",
      "2012_2013    723.060207\n",
      "Name: swe, dtype: float64\n"
     ]
    },
    {
     "data": {
      "text/plain": [
       "KstestResult(statistic=np.float64(0.04485746350040257), pvalue=np.float64(0.23153107793979597), statistic_location=np.float64(8.364897044691443), statistic_sign=np.int8(-1))"
      ]
     },
     "execution_count": 7,
     "metadata": {},
     "output_type": "execute_result"
    }
   ],
   "source": [
    "print('CTRL swe', ctrl_extent.groupby('season')['swe'].sum())\n",
    "print('PGW swe', pgw_extent.groupby('season')['swe'].sum())\n",
    "\n",
    "ks_2samp(ctrl_extent['swe'].values, pgw_extent['swe'].values)"
   ]
  },
  {
   "cell_type": "markdown",
   "metadata": {},
   "source": [
    "Swath area significance test\n",
    "\n",
    "(I'm just showing the seasonal values as an example.. the test is for all swaths)"
   ]
  },
  {
   "cell_type": "code",
   "execution_count": 8,
   "metadata": {},
   "outputs": [
    {
     "name": "stdout",
     "output_type": "stream",
     "text": [
      "CTRL area season\n",
      "2000_2001    183.935344\n",
      "2001_2002    195.118000\n",
      "2002_2003    195.471520\n",
      "2003_2004    210.799008\n",
      "2005_2006    171.329472\n",
      "2006_2007    186.769584\n",
      "2007_2008    217.683104\n",
      "2008_2009    195.167472\n",
      "2009_2010    144.273568\n",
      "2010_2011    221.989888\n",
      "2011_2012    176.304000\n",
      "2012_2013    214.452848\n",
      "Name: swath_area, dtype: float64\n",
      "PGW area season\n",
      "2000_2001    128.800432\n",
      "2001_2002    122.540688\n",
      "2002_2003    130.512992\n",
      "2003_2004    135.793120\n",
      "2005_2006    101.210928\n",
      "2006_2007    108.515136\n",
      "2007_2008    134.225808\n",
      "2008_2009    133.107296\n",
      "2009_2010     83.105920\n",
      "2010_2011    144.078880\n",
      "2011_2012     95.413760\n",
      "2012_2013    134.343824\n",
      "Name: swath_area, dtype: float64\n"
     ]
    },
    {
     "data": {
      "text/plain": [
       "KstestResult(statistic=np.float64(0.09200964043910509), pvalue=np.float64(0.000249220278462126), statistic_location=np.float64(1373024.0), statistic_sign=np.int8(-1))"
      ]
     },
     "execution_count": 8,
     "metadata": {},
     "output_type": "execute_result"
    }
   ],
   "source": [
    "print('CTRL area', ctrl_extent.groupby('season')['swath_area'].sum() * 10**-6)\n",
    "print('PGW area', pgw_extent.groupby('season')['swath_area'].sum() * 10**-6)\n",
    "\n",
    "ks_2samp(ctrl_extent['swath_area'].values, pgw_extent['swath_area'].values)"
   ]
  },
  {
   "cell_type": "markdown",
   "metadata": {},
   "source": [
    "50th percentile swath area sig. test\n",
    "\n",
    "(I'm just showing the seasonal values as an example.. the test is for all swaths)"
   ]
  },
  {
   "cell_type": "code",
   "execution_count": 9,
   "metadata": {},
   "outputs": [
    {
     "name": "stdout",
     "output_type": "stream",
     "text": [
      "CTRL area season\n",
      "2000_2001    135.141136\n",
      "2001_2002    141.409680\n",
      "2002_2003    142.408336\n",
      "2003_2004    158.604336\n",
      "2005_2006    131.290096\n",
      "2006_2007    140.526288\n",
      "2007_2008    164.893360\n",
      "2008_2009    150.608544\n",
      "2009_2010    106.578096\n",
      "2010_2011    166.952528\n",
      "2011_2012    135.325792\n",
      "2012_2013    159.574944\n",
      "Name: swath_area_50p, dtype: float64\n",
      "PGW area season\n",
      "2000_2001     97.408288\n",
      "2001_2002     91.392528\n",
      "2002_2003     97.540512\n",
      "2003_2004    105.564080\n",
      "2005_2006     77.351808\n",
      "2006_2007     83.988992\n",
      "2007_2008    105.491792\n",
      "2008_2009    106.342352\n",
      "2009_2010     61.100784\n",
      "2010_2011    110.191504\n",
      "2011_2012     73.996176\n",
      "2012_2013    104.673888\n",
      "Name: swath_area_50p, dtype: float64\n"
     ]
    },
    {
     "data": {
      "text/plain": [
       "KstestResult(statistic=np.float64(0.0693435093523887), pvalue=np.float64(0.011967624430912422), statistic_location=np.float64(1514672.0), statistic_sign=np.int8(-1))"
      ]
     },
     "execution_count": 9,
     "metadata": {},
     "output_type": "execute_result"
    }
   ],
   "source": [
    "print('CTRL area', ctrl_extent.groupby('season')['swath_area_50p'].sum() * 10**-6)\n",
    "print('PGW area', pgw_extent.groupby('season')['swath_area_50p'].sum() * 10**-6)\n",
    "\n",
    "ks_2samp(ctrl_extent['swath_area_50p'].values, pgw_extent['swath_area_50p'].values)"
   ]
  },
  {
   "cell_type": "markdown",
   "metadata": {},
   "source": [
    "90th percentile swath area sig. test\n",
    "\n",
    "(I'm just showing the seasonal values as an example.. the test is for all swaths)"
   ]
  },
  {
   "cell_type": "code",
   "execution_count": 10,
   "metadata": {},
   "outputs": [
    {
     "name": "stdout",
     "output_type": "stream",
     "text": [
      "CTRL area season\n",
      "2000_2001    40.729920\n",
      "2001_2002    48.824816\n",
      "2002_2003    46.007664\n",
      "2003_2004    55.292368\n",
      "2005_2006    49.361712\n",
      "2006_2007    53.965520\n",
      "2007_2008    60.220496\n",
      "2008_2009    58.547408\n",
      "2009_2010    36.650096\n",
      "2010_2011    62.639360\n",
      "2011_2012    44.018000\n",
      "2012_2013    60.417744\n",
      "Name: swath_area_90p, dtype: float64\n",
      "PGW area season\n",
      "2000_2001    30.872496\n",
      "2001_2002    32.303632\n",
      "2002_2003    33.252736\n",
      "2003_2004    40.522320\n",
      "2005_2006    30.370960\n",
      "2006_2007    33.487232\n",
      "2007_2008    42.048560\n",
      "2008_2009    44.875584\n",
      "2009_2010    21.596544\n",
      "2010_2011    43.275728\n",
      "2011_2012    25.768688\n",
      "2012_2013    43.532944\n",
      "Name: swath_area_90p, dtype: float64\n"
     ]
    },
    {
     "data": {
      "text/plain": [
       "KstestResult(statistic=np.float64(0.08430539332533488), pvalue=np.float64(0.001048981649510773), statistic_location=np.float64(73424.0), statistic_sign=np.int8(1))"
      ]
     },
     "execution_count": 10,
     "metadata": {},
     "output_type": "execute_result"
    }
   ],
   "source": [
    "print('CTRL area', ctrl_extent.groupby('season')['swath_area_90p'].sum() * 10**-6)\n",
    "print('PGW area', pgw_extent.groupby('season')['swath_area_90p'].sum() * 10**-6)\n",
    "\n",
    "ks_2samp(ctrl_extent['swath_area_90p'].values, pgw_extent['swath_area_90p'].values)"
   ]
  }
 ],
 "metadata": {
  "kernelspec": {
   "display_name": "future_snow",
   "language": "python",
   "name": "python3"
  },
  "language_info": {
   "codemirror_mode": {
    "name": "ipython",
    "version": 3
   },
   "file_extension": ".py",
   "mimetype": "text/x-python",
   "name": "python",
   "nbconvert_exporter": "python",
   "pygments_lexer": "ipython3",
   "version": "3.11.10"
  }
 },
 "nbformat": 4,
 "nbformat_minor": 4
}
